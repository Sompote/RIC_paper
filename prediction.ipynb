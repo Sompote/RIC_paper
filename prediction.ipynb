{
  "nbformat": 4,
  "nbformat_minor": 0,
  "metadata": {
    "colab": {
      "provenance": [],
      "mount_file_id": "11kMbMWzXgxCjLsIjjcboWnDhx6mgE6Cc",
      "authorship_tag": "ABX9TyMhdrfeoutGhMkjgCH245pT",
      "include_colab_link": true
    },
    "kernelspec": {
      "name": "python3",
      "display_name": "Python 3"
    },
    "language_info": {
      "name": "python"
    }
  },
  "cells": [
    {
      "cell_type": "markdown",
      "metadata": {
        "id": "view-in-github",
        "colab_type": "text"
      },
      "source": [
        "<a href=\"https://colab.research.google.com/github/Sompote/RIC_paper/blob/main/prediction.ipynb\" target=\"_parent\"><img src=\"https://colab.research.google.com/assets/colab-badge.svg\" alt=\"Open In Colab\"/></a>"
      ]
    },
    {
      "cell_type": "code",
      "source": [
        "!pip install -q --upgrade keras-nlp"
      ],
      "metadata": {
        "colab": {
          "base_uri": "https://localhost:8080/"
        },
        "id": "jWn1tJBuxNG6",
        "outputId": "c86e989f-a49f-4b4f-d4f8-280ea262d6c1"
      },
      "execution_count": null,
      "outputs": [
        {
          "output_type": "stream",
          "name": "stdout",
          "text": [
            "\u001b[?25l     \u001b[90m━━━━━━━━━━━━━━━━━━━━━━━━━━━━━━━━━━━━━━━━\u001b[0m \u001b[32m0.0/573.5 kB\u001b[0m \u001b[31m?\u001b[0m eta \u001b[36m-:--:--\u001b[0m\r\u001b[2K     \u001b[91m━━━━━━\u001b[0m\u001b[90m╺\u001b[0m\u001b[90m━━━━━━━━━━━━━━━━━━━━━━━━━━━━━━━━━\u001b[0m \u001b[32m92.2/573.5 kB\u001b[0m \u001b[31m2.7 MB/s\u001b[0m eta \u001b[36m0:00:01\u001b[0m\r\u001b[2K     \u001b[90m━━━━━━━━━━━━━━━━━━━━━━━━━━━━━━━━━━━━━━━\u001b[0m \u001b[32m573.5/573.5 kB\u001b[0m \u001b[31m8.5 MB/s\u001b[0m eta \u001b[36m0:00:00\u001b[0m\n",
            "\u001b[2K     \u001b[90m━━━━━━━━━━━━━━━━━━━━━━━━━━━━━━━━━━━━━━\u001b[0m \u001b[32m880.1/880.1 kB\u001b[0m \u001b[31m41.2 MB/s\u001b[0m eta \u001b[36m0:00:00\u001b[0m\n",
            "\u001b[2K     \u001b[90m━━━━━━━━━━━━━━━━━━━━━━━━━━━━━━━━━━━━━━━━\u001b[0m \u001b[32m6.5/6.5 MB\u001b[0m \u001b[31m82.1 MB/s\u001b[0m eta \u001b[36m0:00:00\u001b[0m\n",
            "\u001b[2K     \u001b[90m━━━━━━━━━━━━━━━━━━━━━━━━━━━━━━━━━━━━━━━\u001b[0m \u001b[32m524.1/524.1 MB\u001b[0m \u001b[31m3.1 MB/s\u001b[0m eta \u001b[36m0:00:00\u001b[0m\n",
            "\u001b[2K     \u001b[90m━━━━━━━━━━━━━━━━━━━━━━━━━━━━━━━━━━━━━━━━\u001b[0m \u001b[32m1.7/1.7 MB\u001b[0m \u001b[31m50.0 MB/s\u001b[0m eta \u001b[36m0:00:00\u001b[0m\n",
            "\u001b[2K     \u001b[90m━━━━━━━━━━━━━━━━━━━━━━━━━━━━━━━━━━━━━━━━\u001b[0m \u001b[32m5.6/5.6 MB\u001b[0m \u001b[31m60.2 MB/s\u001b[0m eta \u001b[36m0:00:00\u001b[0m\n",
            "\u001b[2K     \u001b[90m━━━━━━━━━━━━━━━━━━━━━━━━━━━━━━━━━━━━━━\u001b[0m \u001b[32m440.8/440.8 kB\u001b[0m \u001b[31m21.2 MB/s\u001b[0m eta \u001b[36m0:00:00\u001b[0m\n",
            "\u001b[?25h\u001b[31mERROR: pip's dependency resolver does not currently take into account all the packages that are installed. This behaviour is the source of the following dependency conflicts.\n",
            "pydantic 2.1.1 requires typing-extensions>=4.6.1, but you have typing-extensions 4.5.0 which is incompatible.\n",
            "pydantic-core 2.4.0 requires typing-extensions!=4.7.0,>=4.6.0, but you have typing-extensions 4.5.0 which is incompatible.\u001b[0m\u001b[31m\n",
            "\u001b[0m"
          ]
        }
      ]
    },
    {
      "cell_type": "code",
      "execution_count": null,
      "metadata": {
        "id": "6vKmA5Wkwzo-"
      },
      "outputs": [],
      "source": [
        "#Transformer prediciton to predict RIC combind model by Dr. Sompote Youwai 2023\n",
        "import numpy as np\n",
        "import pandas as pd\n",
        "\n",
        "# Import libraries\n",
        "import numpy as np\n",
        "from keras.models import Sequential\n",
        "from keras.layers import Dense\n",
        "from sklearn.model_selection import train_test_split\n",
        "from sklearn.preprocessing import StandardScaler\n",
        "from sklearn.preprocessing import MinMaxScaler\n",
        "import matplotlib.pyplot as plt\n",
        "import pandas as pd\n",
        "\n",
        "#import tensorflow as tf\n",
        "from keras.models import Model\n",
        "from keras.layers import Input, Dense, Conv1D, Flatten, concatenate,Reshape, Dropout,Bidirectional,LayerNormalization\n",
        "from keras.layers import MaxPooling1D\n",
        "from keras.layers import LSTM, Dense\n",
        "from keras.metrics import MeanAbsolutePercentageError\n",
        "from keras import *\n",
        "from keras.optimizers import Adam\n",
        "import keras_nlp\n",
        "\n",
        "df = pd.read_excel('/content/drive/MyDrive/RIC/RIC15aug.xlsx')\n",
        "data=np.array(df)\n",
        "X=data[:,1:29]\n",
        "Y=data[:,34:62]\n",
        "x_featured=data[:,29:32]\n"
      ]
    },
    {
      "cell_type": "code",
      "source": [
        "transformer = models.load_model('/content/transformer_large_final.h5')"
      ],
      "metadata": {
        "id": "Z-0iO6huxetY"
      },
      "execution_count": null,
      "outputs": []
    },
    {
      "cell_type": "code",
      "source": [
        "transformer.summary()"
      ],
      "metadata": {
        "colab": {
          "base_uri": "https://localhost:8080/"
        },
        "id": "jQzz_e0ixzsC",
        "outputId": "f823434c-9d55-4fdc-9432-54b3979c5203"
      },
      "execution_count": null,
      "outputs": [
        {
          "output_type": "stream",
          "name": "stdout",
          "text": [
            "Model: \"Transformer\"\n",
            "__________________________________________________________________________________________________\n",
            " Layer (type)                Output Shape                 Param #   Connected to                  \n",
            "==================================================================================================\n",
            " LSTM_input (InputLayer)     [(None, 28, 4)]              0         []                            \n",
            "                                                                                                  \n",
            " CNN_input (InputLayer)      [(None, 28, 4)]              0         []                            \n",
            "                                                                                                  \n",
            " layer_normalization_9 (Lay  (None, 28, 4)                8         ['LSTM_input[0][0]']          \n",
            " erNormalization)                                                                                 \n",
            "                                                                                                  \n",
            " position_embedding_2 (Posi  (None, 28, 4)                112       ['CNN_input[0][0]']           \n",
            " tionEmbedding)                                                                                   \n",
            "                                                                                                  \n",
            " multi_head_attention_4 (Mu  (None, 28, 4)                4564      ['layer_normalization_9[0][0]'\n",
            " ltiHeadAttention)                                                  , 'layer_normalization_9[0][0]\n",
            "                                                                    ']                            \n",
            "                                                                                                  \n",
            " layer_normalization_7 (Lay  (None, 28, 4)                8         ['position_embedding_2[0][0]']\n",
            " erNormalization)                                                                                 \n",
            "                                                                                                  \n",
            " dropout_10 (Dropout)        (None, 28, 4)                0         ['multi_head_attention_4[0][0]\n",
            "                                                                    ']                            \n",
            "                                                                                                  \n",
            " multi_head_attention_3 (Mu  (None, 28, 4)                4564      ['layer_normalization_7[0][0]'\n",
            " ltiHeadAttention)                                                  , 'layer_normalization_7[0][0]\n",
            "                                                                    ']                            \n",
            "                                                                                                  \n",
            " tf.__operators__.add_8 (TF  (None, 28, 4)                0         ['dropout_10[0][0]',          \n",
            " OpLambda)                                                           'LSTM_input[0][0]']          \n",
            "                                                                                                  \n",
            " dropout_8 (Dropout)         (None, 28, 4)                0         ['multi_head_attention_3[0][0]\n",
            "                                                                    ']                            \n",
            "                                                                                                  \n",
            " layer_normalization_10 (La  (None, 28, 4)                8         ['tf.__operators__.add_8[0][0]\n",
            " yerNormalization)                                                  ']                            \n",
            "                                                                                                  \n",
            " tf.__operators__.add_6 (TF  (None, 28, 4)                0         ['dropout_8[0][0]',           \n",
            " OpLambda)                                                           'position_embedding_2[0][0]']\n",
            "                                                                                                  \n",
            " conv1d_8 (Conv1D)           (None, 28, 2)                10        ['layer_normalization_10[0][0]\n",
            "                                                                    ']                            \n",
            "                                                                                                  \n",
            " layer_normalization_8 (Lay  (None, 28, 4)                8         ['tf.__operators__.add_6[0][0]\n",
            " erNormalization)                                                   ']                            \n",
            "                                                                                                  \n",
            " dropout_11 (Dropout)        (None, 28, 2)                0         ['conv1d_8[0][0]']            \n",
            "                                                                                                  \n",
            " conv1d_6 (Conv1D)           (None, 28, 2)                10        ['layer_normalization_8[0][0]'\n",
            "                                                                    ]                             \n",
            "                                                                                                  \n",
            " conv1d_9 (Conv1D)           (None, 28, 4)                12        ['dropout_11[0][0]']          \n",
            "                                                                                                  \n",
            " dropout_9 (Dropout)         (None, 28, 2)                0         ['conv1d_6[0][0]']            \n",
            "                                                                                                  \n",
            " tf.__operators__.add_9 (TF  (None, 28, 4)                0         ['conv1d_9[0][0]',            \n",
            " OpLambda)                                                           'tf.__operators__.add_8[0][0]\n",
            "                                                                    ']                            \n",
            "                                                                                                  \n",
            " conv1d_7 (Conv1D)           (None, 28, 4)                12        ['dropout_9[0][0]']           \n",
            "                                                                                                  \n",
            " lstm_2 (LSTM)               (None, 28, 300)              366000    ['tf.__operators__.add_9[0][0]\n",
            "                                                                    ']                            \n",
            "                                                                                                  \n",
            " tf.__operators__.add_7 (TF  (None, 28, 4)                0         ['conv1d_7[0][0]',            \n",
            " OpLambda)                                                           'tf.__operators__.add_6[0][0]\n",
            "                                                                    ']                            \n",
            "                                                                                                  \n",
            " flatten_5 (Flatten)         (None, 8400)                 0         ['lstm_2[0][0]']              \n",
            "                                                                                                  \n",
            " flatten_4 (Flatten)         (None, 112)                  0         ['tf.__operators__.add_7[0][0]\n",
            "                                                                    ']                            \n",
            "                                                                                                  \n",
            " dense_21 (Dense)            (None, 50)                   420050    ['flatten_5[0][0]']           \n",
            "                                                                                                  \n",
            " dense_19 (Dense)            (None, 50)                   5650      ['flatten_4[0][0]']           \n",
            "                                                                                                  \n",
            " concatenate_1 (Concatenate  (None, 100)                  0         ['dense_21[0][0]',            \n",
            " )                                                                   'dense_19[0][0]']            \n",
            "                                                                                                  \n",
            " dense_22 (Dense)            (None, 200)                  20200     ['concatenate_1[0][0]']       \n",
            "                                                                                                  \n",
            " dense_23 (Dense)            (None, 16)                   3216      ['dense_22[0][0]']            \n",
            "                                                                                                  \n",
            " feature (InputLayer)        [(None, 3)]                  0         []                            \n",
            "                                                                                                  \n",
            " lag_input (InputLayer)      [(None, None, 1)]            0         []                            \n",
            "                                                                                                  \n",
            " decoding_model (Functional  (None, 1)                    388743    ['dense_23[0][0]',            \n",
            " )                                                                   'feature[0][0]',             \n",
            "                                                                     'lag_input[0][0]']           \n",
            "                                                                                                  \n",
            "==================================================================================================\n",
            "Total params: 1213175 (4.63 MB)\n",
            "Trainable params: 1213175 (4.63 MB)\n",
            "Non-trainable params: 0 (0.00 Byte)\n",
            "__________________________________________________________________________________________________\n"
          ]
        }
      ]
    },
    {
      "cell_type": "code",
      "source": [
        "import pickle #download weight scaler\n",
        "scaler_x = pickle.load(open('/content/drive/MyDrive/RIC/train_model/model_final/scaler_x-2.pkl', 'rb'))\n",
        "scaler_y = pickle.load(open('/content/drive/MyDrive/RIC/train_model/model_final/scaler_y-3.pkl', 'rb'))\n",
        "scaler_f = pickle.load(open('/content/drive/MyDrive/RIC/train_model/model_final/scaler_f-2.pkl', 'rb'))"
      ],
      "metadata": {
        "id": "cPKol-al28Mc"
      },
      "execution_count": null,
      "outputs": []
    },
    {
      "cell_type": "code",
      "source": [
        "#prepare data\n",
        "feature=np.array([50,18,0.5])\n",
        "#feature=np.reshape(feature,(1,-1))\n",
        "sample=16\n",
        "Xd=X[sample-1:sample]\n",
        "feature=x_featured[sample-1:sample]\n",
        "#feature=np.array([50,10,3])\n",
        "feature=np.reshape(feature,(1,-1))\n",
        "\n",
        "x_train = scaler_x.transform(Xd)\n",
        "x_feature=scaler_f.transform(feature)\n",
        "y_ini=np.zeros((1,28))\n",
        "y_ini[0,0]=0\n",
        "#y_ini=scaler_y.transform(y_ini)\n",
        "\n",
        "def CNN_tensor(X,X_feature):\n",
        "  X_train_CNN=np.zeros((X.shape[0],X.shape[1],X_feature.shape[1]+1))\n",
        "  X_train_CNN[:,:,0]=x_train\n",
        "  for i in range(0,(X.shape[0])):\n",
        "    X_train_CNN[i,:,1]=x_feature[i,0]\n",
        "    X_train_CNN[i,:,2]=x_feature[i,1]\n",
        "    X_train_CNN[i,:,3]=x_feature[i,2]\n",
        "  return X_train_CNN\n",
        "X_cnn=CNN_tensor(x_train,x_feature)\n"
      ],
      "metadata": {
        "id": "ydCI7OHry14I"
      },
      "execution_count": null,
      "outputs": []
    },
    {
      "cell_type": "code",
      "source": [
        "feature\n"
      ],
      "metadata": {
        "colab": {
          "base_uri": "https://localhost:8080/"
        },
        "id": "ZSgZEGXw8w5h",
        "outputId": "00792283-18e9-49de-a221-17535ff249bc"
      },
      "execution_count": null,
      "outputs": [
        {
          "output_type": "execute_result",
          "data": {
            "text/plain": [
              "array([[50, 10,  3]])"
            ]
          },
          "metadata": {},
          "execution_count": 124
        }
      ]
    },
    {
      "cell_type": "code",
      "source": [
        "for step in range(0,27):\n",
        "  y=transformer.predict([x_feature,X_cnn, X_cnn,y_ini])\n",
        "  y_ini[0,step+1]=y\n",
        "\n",
        "y_pred=scaler_y.inverse_transform(y_ini)\n"
      ],
      "metadata": {
        "colab": {
          "base_uri": "https://localhost:8080/"
        },
        "id": "pEoDqSC54tPj",
        "outputId": "a5523a4f-2ad8-49c0-a367-ce686a0bc751"
      },
      "execution_count": null,
      "outputs": [
        {
          "output_type": "stream",
          "name": "stdout",
          "text": [
            "1/1 [==============================] - 0s 33ms/step\n",
            "1/1 [==============================] - 0s 36ms/step\n",
            "1/1 [==============================] - 0s 32ms/step\n",
            "1/1 [==============================] - 0s 33ms/step\n",
            "1/1 [==============================] - 0s 33ms/step\n",
            "1/1 [==============================] - 0s 30ms/step\n",
            "1/1 [==============================] - 0s 40ms/step\n",
            "1/1 [==============================] - 0s 41ms/step\n",
            "1/1 [==============================] - 0s 37ms/step\n",
            "1/1 [==============================] - 0s 39ms/step\n",
            "1/1 [==============================] - 0s 34ms/step\n",
            "1/1 [==============================] - 0s 32ms/step\n",
            "1/1 [==============================] - 0s 34ms/step\n",
            "1/1 [==============================] - 0s 34ms/step\n",
            "1/1 [==============================] - 0s 39ms/step\n",
            "1/1 [==============================] - 0s 35ms/step\n",
            "1/1 [==============================] - 0s 36ms/step\n",
            "1/1 [==============================] - 0s 32ms/step\n",
            "1/1 [==============================] - 0s 31ms/step\n",
            "1/1 [==============================] - 0s 31ms/step\n",
            "1/1 [==============================] - 0s 32ms/step\n",
            "1/1 [==============================] - 0s 33ms/step\n",
            "1/1 [==============================] - 0s 31ms/step\n",
            "1/1 [==============================] - 0s 31ms/step\n",
            "1/1 [==============================] - 0s 30ms/step\n",
            "1/1 [==============================] - 0s 33ms/step\n",
            "1/1 [==============================] - 0s 31ms/step\n"
          ]
        }
      ]
    },
    {
      "cell_type": "code",
      "source": [
        "import matplotlib.pyplot as plt\n",
        "\n",
        "# Define the x-axis and corresponding y-axis values as lists\n",
        "\n",
        "ydist=[0.25,0.5,0.75,1,1.25,1.5,1.75,2,2.25,2.5,2.75,3,3.25,3.5,3.75,4,4.25,4.5,4.75,5,5.25,5.5,5.75,6,6.25,6.5,6.75,7]\n",
        "\n",
        "\n",
        "# Plot them on canvas using plt.plot() function\n",
        "plt.plot(X[sample-1], ydist,color='black',label='initial')\n",
        "plt.plot(Y[sample-1], ydist,color='red',label='actual')\n",
        "plt.plot(y_pred[0], ydist,color='blue',label='predict')\n",
        "plt.legend()\n",
        "\n",
        "\n",
        "# Give a name to x-axis and y-axis using plt.xlabel() and plt.ylabel() functions\n",
        "plt.xlabel(\"Qc\")\n",
        "plt.ylabel(\"depth\")\n",
        "\n",
        "# Give a title to your plot using plt.title() function\n",
        "plt.title(\"Qc VS depth\")\n",
        "# Get the current axes instance\n",
        "ax = plt.gca()\n",
        "\n",
        "# Invert the y-axis\n",
        "ax.invert_yaxis()\n",
        "\n",
        "# Finally, to view your plot, we use plt.show() function\n",
        "plt.show()"
      ],
      "metadata": {
        "colab": {
          "base_uri": "https://localhost:8080/",
          "height": 472
        },
        "id": "Hwkazq3y-MF1",
        "outputId": "187c01b1-dd93-46c0-f894-a61afa966e5a"
      },
      "execution_count": null,
      "outputs": [
        {
          "output_type": "display_data",
          "data": {
            "text/plain": [
              "<Figure size 640x480 with 1 Axes>"
            ],
            "image/png": "[encoded data removed]"
          },
          "metadata": {}
        }
      ]
    },
    {
      "cell_type": "code",
      "source": [
        "np.savetxt('array1.csv', y_pred, delimiter=',')"
      ],
      "metadata": {
        "id": "C-n1YP-R-nRK"
      },
      "execution_count": null,
      "outputs": []
    },
    {
      "cell_type": "code",
      "source": [
        "df = pd.read_excel('/content/drive/MyDrive/RIC/RIC15aug.xlsx')\n",
        "data=np.array(df)\n",
        "X=data[:,1:29]\n",
        "Y=data[:,34:62]\n",
        "x_featured=data[:,29:32]"
      ],
      "metadata": {
        "id": "bVmKLm_83bqp"
      },
      "execution_count": null,
      "outputs": []
    },
    {
      "cell_type": "code",
      "source": [
        "#preparing data for training each time step for each Y data using concept seq2seq\n",
        "def encoder_f(x_f,time_step): #feature encoder same feature in each sample\n",
        "  shape=x_f.shape\n",
        "  x=x_f\n",
        "  step=time_step\n",
        "  x_sum_t=x[0:1,:]\n",
        "  for time in range(1,time_step):\n",
        "    x_sum=x[0:1,:]\n",
        "    x_sum_t=np.append(x_sum_t,x_sum,axis=0)\n",
        "  sum_X=x_sum_t\n",
        "\n",
        "  for sample in range(1,shape[0]):\n",
        "    x_sum_ts=x[sample:sample+1,:]\n",
        "\n",
        "    for time in range(1,time_step):\n",
        "        x_sum=x[sample:sample+1,:]\n",
        "        #x_sum=np.reshape(x_sum,(1,x_sum.shape[0],x_sum.shape[1]))\n",
        "\n",
        "\n",
        "        x_sum_ts=np.append(x_sum_ts,x_sum,axis=0)\n",
        "\n",
        "    sum_X=np.append(sum_X,x_sum_ts,axis=0)\n",
        "  return sum_X\n",
        "\n",
        "#prepare x in encoder #enter CNN and use similar encode for  smaple in diffrent time step\n",
        "def encoder_x(x_cnn):\n",
        "  shape=x_cnn.shape\n",
        "  x=x_cnn\n",
        "\n",
        "  x_sum_t=x[0:1,:,:]\n",
        "  for time in range(1,shape[1]):\n",
        "    x_sum=x[0:1,:,:]\n",
        "    x_sum=np.reshape(x_sum,(1,x_sum.shape[1],x_sum.shape[2]))\n",
        "    x_sum_t=np.append(x_sum_t,x_sum,axis=0)\n",
        "\n",
        "  sum_X=x_sum_t\n",
        "\n",
        "  for sample in range(1,shape[0]):\n",
        "    x_sum_ts=x[sample:sample+1,:,:]\n",
        "\n",
        "    for time in range(1,shape[1]):\n",
        "        x_sum=x[sample,:,:]\n",
        "        x_sum=np.reshape(x_sum,(1,x_sum.shape[0],x_sum.shape[1]))\n",
        "        x_sum_ts=np.append(x_sum_ts,x_sum,axis=0)\n",
        "\n",
        "    sum_X=np.append(sum_X,x_sum_ts,axis=0)\n",
        "  return sum_X\n",
        "\n",
        "def padding(x_pad,shift=1): #padding time shift right -shift right =1\n",
        "  xt=x_pad\n",
        "  if (shift>0):\n",
        "    ap=np.zeros((xt.shape[0],shift))\n",
        "    xt=np.concatenate((ap,xt), axis=1)\n",
        "  xt_1 = xt[0,0:1]\n",
        "  xt_p1=  np.pad(xt_1, (0, xt.shape[1]-1), mode='constant')\n",
        "  x_sum=xt_p1\n",
        "  for i in range(1,x_train.shape[1]):\n",
        "    xt_t = xt[0,0:i+1]\n",
        "    xt_pt=  np.pad(xt_t, (0, xt.shape[1]-xt_t.shape[0]), mode='constant')\n",
        "\n",
        "    x_sum=np.vstack((x_sum, xt_pt))\n",
        "  return x_sum\n",
        "\n",
        "#padding time shift right -shift right =1 prepare the squence for decoder usinhe previous time step\n",
        "def padding_full(x_pad,shift=1):\n",
        "  xt=x_pad\n",
        "  if (shift>0):\n",
        "    ap=np.zeros((xt.shape[0],shift))\n",
        "    xt=np.concatenate((ap,xt), axis=1)\n",
        "\n",
        "  xt_1 = xt[0,0:1]\n",
        "  xt_p1=  np.pad(xt_1, (0, xt.shape[1]-1), mode='constant')\n",
        "  x_sum=xt_p1\n",
        "  for i in range(1,x_train.shape[1]):\n",
        "    xt_t = xt[0,0:i+1]\n",
        "    xt_pt=  np.pad(xt_t, (0, xt.shape[1]-xt_t.shape[0]), mode='constant')\n",
        "\n",
        "    x_sum=np.vstack((x_sum, xt_pt))\n",
        "  x_sum_train=x_sum\n",
        "\n",
        "  for num_s in range(1,xt.shape[0]):\n",
        "    xt_1 = xt[num_s,0:1]\n",
        "    xt_p1=  np.pad(xt_1, (0, xt.shape[1]-1), mode='constant')\n",
        "    x_sum=xt_p1\n",
        "    for i in range(1,x_train.shape[1]):\n",
        "      xt_t = xt[0,0:i+1]\n",
        "      xt_pt=  np.pad(xt_t, (0, xt.shape[1]-xt_t.shape[0]), mode='constant')\n",
        "\n",
        "      x_sum=np.vstack((x_sum, xt_pt))\n",
        "    x_sum_train =np.vstack((x_sum_train, x_sum))\n",
        "\n",
        "  return x_sum_train\n",
        "\n",
        "def out_put(y_train): #prepare y_value each step\n",
        "  y_t=y_train\n",
        "\n",
        "  y_sum=y_t[0,0]\n",
        "\n",
        "  for time in range(1,y_t.shape[1]):\n",
        "    y_sum=np.vstack((y_sum,y_t[0,time]))\n",
        "  ysum_t=y_sum\n",
        "\n",
        "  for nums in range(1,y_t.shape[0]):\n",
        "    y_sum=y_t[nums,0]\n",
        "    for time in range(1,y_t.shape[1]):\n",
        "      y_sum=np.vstack((y_sum,y_t[0,time]))\n",
        "\n",
        "    ysum_t=np.vstack((ysum_t,y_sum))\n",
        "  return ysum_t\n",
        "\n",
        "\n",
        "X_train=X\n",
        "Y_train=Y\n",
        "X_feature=x_feature\n",
        "\n",
        "x_train = scaler_x.transform(X_train)\n",
        "y_train=scaler_y.transform(Y_train)\n",
        "x_feature=scaler_f.transform(X_feature)\n",
        "\n",
        "#preparing input matrix\n",
        "#first dim is time step, 2-4 is feature\n",
        "X_train_CNN=np.zeros((X.shape[0],X.shape[1],X_feature.shape[1]+1))\n",
        "X_train_CNN[:,:,0]=x_train\n",
        "for i in range(0,(X.shape[0])):\n",
        "  X_train_CNN[i,:,1]=x_feature[i,0]\n",
        "  X_train_CNN[i,:,2]=x_feature[i,1]\n",
        "  X_train_CNN[i,:,3]=x_feature[i,2]\n",
        "X_cnn= X_train_CNN\n",
        "\n",
        "x_f=encoder_f(x_feature,28)\n",
        "x_train_encoder=encoder_x(X_cnn)\n",
        "y_decode=padding_full(x_pad=y_train, shift=1)\n",
        "y_decode = np.delete (y_decode, -1, axis=1)\n",
        "y_train_f=out_put(y_train)\n"
      ],
      "metadata": {
        "id": "CyFJhNcxAUHg"
      },
      "execution_count": null,
      "outputs": []
    },
    {
      "cell_type": "code",
      "source": [
        "y_train.shape"
      ],
      "metadata": {
        "colab": {
          "base_uri": "https://localhost:8080/"
        },
        "id": "TRIjc1BJ2qFv",
        "outputId": "d1028dbc-2556-409a-e38f-178c4ff8b668"
      },
      "execution_count": null,
      "outputs": [
        {
          "output_type": "execute_result",
          "data": {
            "text/plain": [
              "(34, 28)"
            ]
          },
          "metadata": {},
          "execution_count": 90
        }
      ]
    },
    {
      "cell_type": "code",
      "source": [
        " y=transformer.predict([x_f,x_train_encoder, x_train_encoder,y_decode])\n"
      ],
      "metadata": {
        "colab": {
          "base_uri": "https://localhost:8080/"
        },
        "id": "Joegv6wjZjJy",
        "outputId": "93880f0a-bd3a-4b4b-cbb3-ffe841926074"
      },
      "execution_count": null,
      "outputs": [
        {
          "output_type": "stream",
          "name": "stdout",
          "text": [
            "30/30 [==============================] - 1s 29ms/step\n"
          ]
        }
      ]
    },
    {
      "cell_type": "code",
      "source": [
        "np.mean(np.abs((y-y_train_f)))"
      ],
      "metadata": {
        "colab": {
          "base_uri": "https://localhost:8080/"
        },
        "id": "ijoA4HVi5d64",
        "outputId": "9a409ee3-e2af-4ff5-c18a-9fc9f11247ab"
      },
      "execution_count": null,
      "outputs": [
        {
          "output_type": "execute_result",
          "data": {
            "text/plain": [
              "0.08080756907366173"
            ]
          },
          "metadata": {},
          "execution_count": 97
        }
      ]
    },
    {
      "cell_type": "code",
      "source": [
        "plt.scatter(y_train_f,y,color='blue',label='predict',s=0.2)\n",
        "plt.legend()\n",
        "\n",
        "\n",
        "# Give a name to x-axis and y-axis using plt.xlabel() and plt.ylabel() functions\n",
        "plt.xlabel(\"actual\")\n",
        "plt.ylabel(\"predict\")\n",
        "\n",
        "# Give a title to your plot using plt.title() function\n",
        "plt.title(\"Qc VS depth\")\n",
        "# Get the current axes instance\n",
        "ax = plt.gca()\n",
        "\n",
        "# Invert the y-axis\n",
        "\n",
        "\n",
        "# Finally, to view your plot, we use plt.show() function\n",
        "plt.show()"
      ],
      "metadata": {
        "colab": {
          "base_uri": "https://localhost:8080/",
          "height": 472
        },
        "id": "pZ6hrbfryxrS",
        "outputId": "ac4bd3c5-f170-4cd4-af44-4e00de99a8f3"
      },
      "execution_count": null,
      "outputs": [
        {
          "output_type": "display_data",
          "data": {
            "text/plain": [
              "<Figure size 640x480 with 1 Axes>"
            ],
            "image/png": "[encoded data removed]"
          },
          "metadata": {}
        }
      ]
    },
    {
      "cell_type": "code",
      "source": [
        "y.shape"
      ],
      "metadata": {
        "colab": {
          "base_uri": "https://localhost:8080/"
        },
        "id": "pnmVxuZFz3kq",
        "outputId": "3dc73d80-a214-42f9-d1bd-8024bc1298bf"
      },
      "execution_count": null,
      "outputs": [
        {
          "output_type": "execute_result",
          "data": {
            "text/plain": [
              "(952, 1)"
            ]
          },
          "metadata": {},
          "execution_count": 32
        }
      ]
    },
    {
      "cell_type": "code",
      "source": [
        "\n"
      ],
      "metadata": {
        "id": "9aT4sGs83Q8M"
      },
      "execution_count": null,
      "outputs": []
    },
    {
      "cell_type": "code",
      "source": [
        "def mape(y_true, y_pred):\n",
        "  mape=np.mean(np.abs((y_true - y_pred)/y_true ))*100\n",
        "  # return mean of percentage errors\n",
        "  return mape\n",
        "\n",
        "\n",
        "def mae(y_true, y_pred):\n",
        "  mae=np.mean(np.abs(y_true - y_pred))\n",
        "  # return mean of percentage errors\n",
        "  return mae\n",
        "\n",
        "x_train = scaler_x.transform(X)\n",
        "x_feature=scaler_f.transform(x_featured)\n",
        "\n",
        "y_ini=np.zeros((1,28))\n",
        "y_ini[0,0]=0\n",
        "#y_ini=scaler_y.transform(y_ini)\n",
        "\n",
        "def CNN_tensor(X,X_feature):\n",
        "  X_train_CNN=np.zeros((X.shape[0],X.shape[1],X_feature.shape[1]+1))\n",
        "  X_train_CNN[:,:,0]=x_train\n",
        "  for i in range(0,(X.shape[0])):\n",
        "    X_train_CNN[i,:,1]=x_feature[i,0]\n",
        "    X_train_CNN[i,:,2]=x_feature[i,1]\n",
        "    X_train_CNN[i,:,3]=x_feature[i,2]\n",
        "  return X_train_CNN\n",
        "X_cnn=CNN_tensor(x_train,x_feature)\n",
        "\n",
        "y=model_transform.predict([X_feature_test,X_test, X_test,y_d_test])\n",
        "\n",
        "#_pred=sc_y.inverse_transform(y)\n",
        "\n",
        "mape=mape(Y_test,y)\n",
        "mae=mae(Y_test,y)\n",
        "\n",
        "print('MAPE=', mape)\n",
        "print('MAE=', mae)\n",
        "\n",
        "\n",
        "data=np.array(df)\n",
        "X=data[:,1:29]\n",
        "Y=data[:,34:62]\n",
        "x_featured=data[:,29:32]\n"
      ],
      "metadata": {
        "colab": {
          "base_uri": "https://localhost:8080/",
          "height": 242
        },
        "id": "kCivJaG6ysa8",
        "outputId": "02ad52b1-f019-4c94-cfe6-df08419480ea"
      },
      "execution_count": null,
      "outputs": [
        {
          "output_type": "error",
          "ename": "NameError",
          "evalue": "ignored",
          "traceback": [
            "\u001b[0;31m---------------------------------------------------------------------------\u001b[0m",
            "\u001b[0;31mNameError\u001b[0m                                 Traceback (most recent call last)",
            "\u001b[0;32m<ipython-input-64-3b8b234a699f>\u001b[0m in \u001b[0;36m<cell line: 29>\u001b[0;34m()\u001b[0m\n\u001b[1;32m     27\u001b[0m \u001b[0mX_cnn\u001b[0m\u001b[0;34m=\u001b[0m\u001b[0mCNN_tensor\u001b[0m\u001b[0;34m(\u001b[0m\u001b[0mx_train\u001b[0m\u001b[0;34m,\u001b[0m\u001b[0mx_feature\u001b[0m\u001b[0;34m)\u001b[0m\u001b[0;34m\u001b[0m\u001b[0;34m\u001b[0m\u001b[0m\n\u001b[1;32m     28\u001b[0m \u001b[0;34m\u001b[0m\u001b[0m\n\u001b[0;32m---> 29\u001b[0;31m \u001b[0my\u001b[0m\u001b[0;34m=\u001b[0m\u001b[0mmodel_transform\u001b[0m\u001b[0;34m.\u001b[0m\u001b[0mpredict\u001b[0m\u001b[0;34m(\u001b[0m\u001b[0;34m[\u001b[0m\u001b[0mX_feature_test\u001b[0m\u001b[0;34m,\u001b[0m\u001b[0mX_test\u001b[0m\u001b[0;34m,\u001b[0m \u001b[0mX_test\u001b[0m\u001b[0;34m,\u001b[0m\u001b[0my_d_test\u001b[0m\u001b[0;34m]\u001b[0m\u001b[0;34m)\u001b[0m\u001b[0;34m\u001b[0m\u001b[0;34m\u001b[0m\u001b[0m\n\u001b[0m\u001b[1;32m     30\u001b[0m \u001b[0;34m\u001b[0m\u001b[0m\n\u001b[1;32m     31\u001b[0m \u001b[0;31m#_pred=sc_y.inverse_transform(y)\u001b[0m\u001b[0;34m\u001b[0m\u001b[0;34m\u001b[0m\u001b[0m\n",
            "\u001b[0;31mNameError\u001b[0m: name 'model_transform' is not defined"
          ]
        }
      ]
    },
    {
      "cell_type": "code",
      "source": [],
      "metadata": {
        "id": "rqMkz43LxvYH"
      },
      "execution_count": null,
      "outputs": []
    }
  ]
}